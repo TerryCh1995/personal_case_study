{
 "cells": [
  {
   "cell_type": "markdown",
   "metadata": {},
   "source": [
    "网点现金预测建模 Baseline\n",
    "数据样本背景：佛山三水一住宅区附近网点，整体交易量在网点中属于中下水平\n",
    "样本数据集：20180101-2020-05-31\n",
    "验证数据集：20200602"
   ]
  },
  {
   "cell_type": "code",
   "execution_count": 1,
   "metadata": {},
   "outputs": [],
   "source": [
    "import numpy as np\n",
    "import pandas as pd\n",
    "import matplotlib.pyplot as plt"
   ]
  },
  {
   "cell_type": "code",
   "execution_count": 93,
   "metadata": {
    "scrolled": true
   },
   "outputs": [
    {
     "data": {
      "text/html": [
       "<div>\n",
       "<style scoped>\n",
       "    .dataframe tbody tr th:only-of-type {\n",
       "        vertical-align: middle;\n",
       "    }\n",
       "\n",
       "    .dataframe tbody tr th {\n",
       "        vertical-align: top;\n",
       "    }\n",
       "\n",
       "    .dataframe thead th {\n",
       "        text-align: right;\n",
       "    }\n",
       "</style>\n",
       "<table border=\"1\" class=\"dataframe\">\n",
       "  <thead>\n",
       "    <tr style=\"text-align: right;\">\n",
       "      <th></th>\n",
       "      <th>pass_acct_dt</th>\n",
       "      <th>prest_txn_tm</th>\n",
       "      <th>txn_amt</th>\n",
       "    </tr>\n",
       "    <tr>\n",
       "      <th>date</th>\n",
       "      <th></th>\n",
       "      <th></th>\n",
       "      <th></th>\n",
       "    </tr>\n",
       "  </thead>\n",
       "  <tbody>\n",
       "    <tr>\n",
       "      <td>2019-07-13</td>\n",
       "      <td>20190713</td>\n",
       "      <td>10514868</td>\n",
       "      <td>150.0</td>\n",
       "    </tr>\n",
       "    <tr>\n",
       "      <td>2019-07-13</td>\n",
       "      <td>20190713</td>\n",
       "      <td>10320728</td>\n",
       "      <td>50.0</td>\n",
       "    </tr>\n",
       "    <tr>\n",
       "      <td>2019-07-13</td>\n",
       "      <td>20190713</td>\n",
       "      <td>11170684</td>\n",
       "      <td>-54670.0</td>\n",
       "    </tr>\n",
       "    <tr>\n",
       "      <td>2019-07-13</td>\n",
       "      <td>20190713</td>\n",
       "      <td>13415506</td>\n",
       "      <td>-56220.0</td>\n",
       "    </tr>\n",
       "    <tr>\n",
       "      <td>2019-07-13</td>\n",
       "      <td>20190713</td>\n",
       "      <td>11202778</td>\n",
       "      <td>50.0</td>\n",
       "    </tr>\n",
       "  </tbody>\n",
       "</table>\n",
       "</div>"
      ],
      "text/plain": [
       "            pass_acct_dt  prest_txn_tm  txn_amt\n",
       "date                                           \n",
       "2019-07-13      20190713      10514868    150.0\n",
       "2019-07-13      20190713      10320728     50.0\n",
       "2019-07-13      20190713      11170684 -54670.0\n",
       "2019-07-13      20190713      13415506 -56220.0\n",
       "2019-07-13      20190713      11202778     50.0"
      ]
     },
     "execution_count": 93,
     "metadata": {},
     "output_type": "execute_result"
    }
   ],
   "source": [
    "#读取数据，数据\n",
    "tmp_df = pd.read_csv('./iml_txn_dpst_fin_dtl_e_casestudy.csv')\n",
    "\n",
    "tmp_df['date'] = pd.to_datetime(tmp_df['pass_acct_dt'], format='%Y%m%d')\n",
    "tmp_df.set_index('date', inplace=True)\n",
    "tmp_df.head()"
   ]
  },
  {
   "cell_type": "code",
   "execution_count": 94,
   "metadata": {},
   "outputs": [
    {
     "data": {
      "text/html": [
       "<div>\n",
       "<style scoped>\n",
       "    .dataframe tbody tr th:only-of-type {\n",
       "        vertical-align: middle;\n",
       "    }\n",
       "\n",
       "    .dataframe tbody tr th {\n",
       "        vertical-align: top;\n",
       "    }\n",
       "\n",
       "    .dataframe thead th {\n",
       "        text-align: right;\n",
       "    }\n",
       "</style>\n",
       "<table border=\"1\" class=\"dataframe\">\n",
       "  <thead>\n",
       "    <tr style=\"text-align: right;\">\n",
       "      <th></th>\n",
       "      <th>pass_acct_dt</th>\n",
       "      <th>prest_txn_tm</th>\n",
       "      <th>txn_amt</th>\n",
       "    </tr>\n",
       "  </thead>\n",
       "  <tbody>\n",
       "    <tr>\n",
       "      <td>count</td>\n",
       "      <td>2.607570e+05</td>\n",
       "      <td>2.607570e+05</td>\n",
       "      <td>2.607570e+05</td>\n",
       "    </tr>\n",
       "    <tr>\n",
       "      <td>mean</td>\n",
       "      <td>2.018767e+07</td>\n",
       "      <td>1.314242e+07</td>\n",
       "      <td>-4.852486e+03</td>\n",
       "    </tr>\n",
       "    <tr>\n",
       "      <td>std</td>\n",
       "      <td>7.282682e+03</td>\n",
       "      <td>3.922385e+06</td>\n",
       "      <td>2.754027e+05</td>\n",
       "    </tr>\n",
       "    <tr>\n",
       "      <td>min</td>\n",
       "      <td>2.018010e+07</td>\n",
       "      <td>2.880000e+02</td>\n",
       "      <td>-4.900000e+07</td>\n",
       "    </tr>\n",
       "    <tr>\n",
       "      <td>25%</td>\n",
       "      <td>2.018071e+07</td>\n",
       "      <td>1.045573e+07</td>\n",
       "      <td>-3.000000e+03</td>\n",
       "    </tr>\n",
       "    <tr>\n",
       "      <td>50%</td>\n",
       "      <td>2.019012e+07</td>\n",
       "      <td>1.331493e+07</td>\n",
       "      <td>-1.000000e+01</td>\n",
       "    </tr>\n",
       "    <tr>\n",
       "      <td>75%</td>\n",
       "      <td>2.019092e+07</td>\n",
       "      <td>1.607244e+07</td>\n",
       "      <td>9.000000e+02</td>\n",
       "    </tr>\n",
       "    <tr>\n",
       "      <td>max</td>\n",
       "      <td>2.020082e+07</td>\n",
       "      <td>2.359595e+07</td>\n",
       "      <td>1.650000e+07</td>\n",
       "    </tr>\n",
       "  </tbody>\n",
       "</table>\n",
       "</div>"
      ],
      "text/plain": [
       "       pass_acct_dt  prest_txn_tm       txn_amt\n",
       "count  2.607570e+05  2.607570e+05  2.607570e+05\n",
       "mean   2.018767e+07  1.314242e+07 -4.852486e+03\n",
       "std    7.282682e+03  3.922385e+06  2.754027e+05\n",
       "min    2.018010e+07  2.880000e+02 -4.900000e+07\n",
       "25%    2.018071e+07  1.045573e+07 -3.000000e+03\n",
       "50%    2.019012e+07  1.331493e+07 -1.000000e+01\n",
       "75%    2.019092e+07  1.607244e+07  9.000000e+02\n",
       "max    2.020082e+07  2.359595e+07  1.650000e+07"
      ]
     },
     "execution_count": 94,
     "metadata": {},
     "output_type": "execute_result"
    }
   ],
   "source": [
    "tmp_df_not0 = tmp_df.loc[tmp_df['prest_txn_tm']!=0]\n",
    "tmp_df_not0.describe()"
   ]
  },
  {
   "cell_type": "code",
   "execution_count": 95,
   "metadata": {},
   "outputs": [
    {
     "data": {
      "text/html": [
       "<div>\n",
       "<style scoped>\n",
       "    .dataframe tbody tr th:only-of-type {\n",
       "        vertical-align: middle;\n",
       "    }\n",
       "\n",
       "    .dataframe tbody tr th {\n",
       "        vertical-align: top;\n",
       "    }\n",
       "\n",
       "    .dataframe thead th {\n",
       "        text-align: right;\n",
       "    }\n",
       "</style>\n",
       "<table border=\"1\" class=\"dataframe\">\n",
       "  <thead>\n",
       "    <tr style=\"text-align: right;\">\n",
       "      <th></th>\n",
       "      <th>pass_acct_dt</th>\n",
       "      <th>prest_txn_tm</th>\n",
       "      <th>txn_amt</th>\n",
       "    </tr>\n",
       "  </thead>\n",
       "  <tbody>\n",
       "    <tr>\n",
       "      <td>count</td>\n",
       "      <td>1.277320e+05</td>\n",
       "      <td>127732.0</td>\n",
       "      <td>1.277320e+05</td>\n",
       "    </tr>\n",
       "    <tr>\n",
       "      <td>mean</td>\n",
       "      <td>2.018497e+07</td>\n",
       "      <td>0.0</td>\n",
       "      <td>7.956580e+04</td>\n",
       "    </tr>\n",
       "    <tr>\n",
       "      <td>std</td>\n",
       "      <td>4.720357e+03</td>\n",
       "      <td>0.0</td>\n",
       "      <td>2.076559e+06</td>\n",
       "    </tr>\n",
       "    <tr>\n",
       "      <td>min</td>\n",
       "      <td>2.018010e+07</td>\n",
       "      <td>0.0</td>\n",
       "      <td>-3.268584e+07</td>\n",
       "    </tr>\n",
       "    <tr>\n",
       "      <td>25%</td>\n",
       "      <td>2.018083e+07</td>\n",
       "      <td>0.0</td>\n",
       "      <td>1.413150e+02</td>\n",
       "    </tr>\n",
       "    <tr>\n",
       "      <td>50%</td>\n",
       "      <td>2.018121e+07</td>\n",
       "      <td>0.0</td>\n",
       "      <td>1.776230e+03</td>\n",
       "    </tr>\n",
       "    <tr>\n",
       "      <td>75%</td>\n",
       "      <td>2.019032e+07</td>\n",
       "      <td>0.0</td>\n",
       "      <td>1.214998e+04</td>\n",
       "    </tr>\n",
       "    <tr>\n",
       "      <td>max</td>\n",
       "      <td>2.019063e+07</td>\n",
       "      <td>0.0</td>\n",
       "      <td>1.342836e+08</td>\n",
       "    </tr>\n",
       "  </tbody>\n",
       "</table>\n",
       "</div>"
      ],
      "text/plain": [
       "       pass_acct_dt  prest_txn_tm       txn_amt\n",
       "count  1.277320e+05      127732.0  1.277320e+05\n",
       "mean   2.018497e+07           0.0  7.956580e+04\n",
       "std    4.720357e+03           0.0  2.076559e+06\n",
       "min    2.018010e+07           0.0 -3.268584e+07\n",
       "25%    2.018083e+07           0.0  1.413150e+02\n",
       "50%    2.018121e+07           0.0  1.776230e+03\n",
       "75%    2.019032e+07           0.0  1.214998e+04\n",
       "max    2.019063e+07           0.0  1.342836e+08"
      ]
     },
     "execution_count": 95,
     "metadata": {},
     "output_type": "execute_result"
    }
   ],
   "source": [
    "tmp_df_0 = tmp_df.loc[tmp_df['prest_txn_tm']==0]\n",
    "tmp_df_0.describe()"
   ]
  },
  {
   "cell_type": "code",
   "execution_count": 98,
   "metadata": {},
   "outputs": [
    {
     "data": {
      "text/plain": [
       "date\n",
       "2018-01-01     -18988.00\n",
       "2018-01-02    -281282.57\n",
       "2018-01-03     518396.94\n",
       "2018-01-04    -570381.66\n",
       "2018-01-05   -3269533.09\n",
       "Name: txn_amt, dtype: float64"
      ]
     },
     "execution_count": 98,
     "metadata": {},
     "output_type": "execute_result"
    },
    {
     "data": {
      "image/png": "[encoded data removed]",
      "text/plain": [
       "<Figure size 1080x360 with 1 Axes>"
      ]
     },
     "metadata": {},
     "output_type": "display_data"
    }
   ],
   "source": [
    "cash_flow_d = tmp_df_not0.groupby(['date'])['txn_amt'].sum()\n",
    "plt.style.use('ggplot')\n",
    "fig = plt.subplots(figsize=(15,5))\n",
    "cash_flow_d[:'2020-02-29'].plot()\n",
    "cash_flow_d.head()"
   ]
  },
  {
   "cell_type": "code",
   "execution_count": 65,
   "metadata": {},
   "outputs": [],
   "source": [
    "cash_flow_train = cash_flow_d[:'2020-02-29']\n",
    "cash_flow_train_diff = cash_flow_train.diff(1).fillna(0)"
   ]
  },
  {
   "cell_type": "code",
   "execution_count": 74,
   "metadata": {},
   "outputs": [
    {
     "data": {
      "text/plain": [
       "<matplotlib.axes._subplots.AxesSubplot at 0x208e863fa48>"
      ]
     },
     "execution_count": 74,
     "metadata": {},
     "output_type": "execute_result"
    },
    {
     "data": {
      "image/png": "[encoded data removed]",
      "text/plain": [
       "<Figure size 1080x360 with 1 Axes>"
      ]
     },
     "metadata": {},
     "output_type": "display_data"
    }
   ],
   "source": [
    "plt.style.use('ggplot')\n",
    "fig = plt.subplots(figsize=(15,5))\n",
    "cash_flow_train['2018-01-01':'2018-03-01'].plot()"
   ]
  },
  {
   "cell_type": "code",
   "execution_count": null,
   "metadata": {},
   "outputs": [],
   "source": []
  },
  {
   "cell_type": "code",
   "execution_count": 64,
   "metadata": {},
   "outputs": [
    {
     "data": {
      "text/plain": [
       "(-1.9837423353531258,\n",
       " 0.2937466966683647,\n",
       " 20,\n",
       " 769,\n",
       " {'1%': -3.438882201132452,\n",
       "  '5%': -2.865305765357574,\n",
       "  '10%': -2.568775270215655},\n",
       " 28102.85822916092)"
      ]
     },
     "execution_count": 64,
     "metadata": {},
     "output_type": "execute_result"
    }
   ],
   "source": [
    "from statsmodels.tsa.stattools import adfuller as ADF\n",
    "ADF(cash_flow_d[:'2020-02-29'])"
   ]
  },
  {
   "cell_type": "code",
   "execution_count": 66,
   "metadata": {},
   "outputs": [
    {
     "data": {
      "text/plain": [
       "(-9.737660643367713,\n",
       " 8.663077214902687e-17,\n",
       " 21,\n",
       " 768,\n",
       " {'1%': -3.4388933482333464,\n",
       "  '5%': -2.8653106782623574,\n",
       "  '10%': -2.5687778874376086},\n",
       " 28093.606481875257)"
      ]
     },
     "execution_count": 66,
     "metadata": {},
     "output_type": "execute_result"
    }
   ],
   "source": [
    "ADF(cash_flow_train_diff)"
   ]
  },
  {
   "cell_type": "code",
   "execution_count": 70,
   "metadata": {},
   "outputs": [
    {
     "data": {
      "image/png": "[encoded data removed]",
      "text/plain": [
       "<Figure size 864x576 with 2 Axes>"
      ]
     },
     "metadata": {},
     "output_type": "display_data"
    }
   ],
   "source": [
    "import statsmodels.api as sm\n",
    "\n",
    "def autocorrelation(timeseries, lags):\n",
    "    fig = plt.figure(figsize=(12, 8))\n",
    "    plt.suptitle(timeseries.name, fontsize=20)\n",
    "    ax1 = fig.add_subplot(211)\n",
    "    sm.graphics.tsa.plot_acf(timeseries, lags=lags, ax=ax1)\n",
    "    ax2 = fig.add_subplot(212)\n",
    "    sm.graphics.tsa.plot_pacf(timeseries, lags=lags, ax=ax2)\n",
    "    plt.show()\n",
    "    \n",
    "autocorrelation(cash_flow_train_diff, 20)"
   ]
  },
  {
   "cell_type": "code",
   "execution_count": 55,
   "metadata": {},
   "outputs": [
    {
     "name": "stdout",
     "output_type": "stream",
     "text": [
      "total:pass_acct_dt    243599\n",
      "prest_txn_tm    243599\n",
      "txn_amt         243599\n",
      "dtype: int64, count:pass_acct_dt    2880\n",
      "prest_txn_tm    2880\n",
      "txn_amt         2880\n",
      "dtype: int64, percentage:pass_acct_dt    0.011823\n",
      "prest_txn_tm    0.011823\n",
      "txn_amt         0.011823\n",
      "dtype: float64\n"
     ]
    },
    {
     "data": {
      "text/plain": [
       "pass_acct_dt    0.011823\n",
       "prest_txn_tm    0.011823\n",
       "txn_amt         0.011823\n",
       "dtype: float64"
      ]
     },
     "execution_count": 55,
     "metadata": {},
     "output_type": "execute_result"
    }
   ],
   "source": [
    "def count_deposit_ratios(df, baseline):\n",
    "    total = df.loc[df['txn_amt']>0].count()\n",
    "    count = df.loc[df['txn_amt']>baseline].count()\n",
    "    percentage = count/total\n",
    "    print('total:{}, count:{}, percentage:{}'.format(total, count, percentage))\n",
    "    return percentage\n",
    "count_deposit_ratios(tmp_df, 500000)\n"
   ]
  },
  {
   "cell_type": "code",
   "execution_count": null,
   "metadata": {},
   "outputs": [],
   "source": []
  },
  {
   "cell_type": "code",
   "execution_count": 56,
   "metadata": {},
   "outputs": [
    {
     "name": "stdout",
     "output_type": "stream",
     "text": [
      "total:pass_acct_dt    243599\n",
      "prest_txn_tm    243599\n",
      "txn_amt         243599\n",
      "dtype: int64, count:pass_acct_dt    79408\n",
      "prest_txn_tm    79408\n",
      "txn_amt         79408\n",
      "dtype: int64, percentage:pass_acct_dt    0.325978\n",
      "prest_txn_tm    0.325978\n",
      "txn_amt         0.325978\n",
      "dtype: float64\n",
      "total:pass_acct_dt    243599\n",
      "prest_txn_tm    243599\n",
      "txn_amt         243599\n",
      "dtype: int64, count:pass_acct_dt    51371\n",
      "prest_txn_tm    51371\n",
      "txn_amt         51371\n",
      "dtype: int64, percentage:pass_acct_dt    0.210883\n",
      "prest_txn_tm    0.210883\n",
      "txn_amt         0.210883\n",
      "dtype: float64\n",
      "total:pass_acct_dt    243599\n",
      "prest_txn_tm    243599\n",
      "txn_amt         243599\n",
      "dtype: int64, count:pass_acct_dt    20140\n",
      "prest_txn_tm    20140\n",
      "txn_amt         20140\n",
      "dtype: int64, percentage:pass_acct_dt    0.082677\n",
      "prest_txn_tm    0.082677\n",
      "txn_amt         0.082677\n",
      "dtype: float64\n",
      "total:pass_acct_dt    243599\n",
      "prest_txn_tm    243599\n",
      "txn_amt         243599\n",
      "dtype: int64, count:pass_acct_dt    11660\n",
      "prest_txn_tm    11660\n",
      "txn_amt         11660\n",
      "dtype: int64, percentage:pass_acct_dt    0.047866\n",
      "prest_txn_tm    0.047866\n",
      "txn_amt         0.047866\n",
      "dtype: float64\n",
      "total:pass_acct_dt    243599\n",
      "prest_txn_tm    243599\n",
      "txn_amt         243599\n",
      "dtype: int64, count:pass_acct_dt    2880\n",
      "prest_txn_tm    2880\n",
      "txn_amt         2880\n",
      "dtype: int64, percentage:pass_acct_dt    0.011823\n",
      "prest_txn_tm    0.011823\n",
      "txn_amt         0.011823\n",
      "dtype: float64\n",
      "total:pass_acct_dt    243599\n",
      "prest_txn_tm    243599\n",
      "txn_amt         243599\n",
      "dtype: int64, count:pass_acct_dt    1421\n",
      "prest_txn_tm    1421\n",
      "txn_amt         1421\n",
      "dtype: int64, percentage:pass_acct_dt    0.005833\n",
      "prest_txn_tm    0.005833\n",
      "txn_amt         0.005833\n",
      "dtype: float64\n",
      "[pass_acct_dt    0.325978\n",
      "prest_txn_tm    0.325978\n",
      "txn_amt         0.325978\n",
      "dtype: float64, pass_acct_dt    0.210883\n",
      "prest_txn_tm    0.210883\n",
      "txn_amt         0.210883\n",
      "dtype: float64, pass_acct_dt    0.082677\n",
      "prest_txn_tm    0.082677\n",
      "txn_amt         0.082677\n",
      "dtype: float64, pass_acct_dt    0.047866\n",
      "prest_txn_tm    0.047866\n",
      "txn_amt         0.047866\n",
      "dtype: float64, pass_acct_dt    0.011823\n",
      "prest_txn_tm    0.011823\n",
      "txn_amt         0.011823\n",
      "dtype: float64, pass_acct_dt    0.005833\n",
      "prest_txn_tm    0.005833\n",
      "txn_amt         0.005833\n",
      "dtype: float64]\n"
     ]
    }
   ],
   "source": [
    "deposit_seq = [5000,10000,50000,100000,500000,1000000]\n",
    "percentages = []\n",
    "for deposit in deposit_seq:\n",
    "    percentages.append(count_deposit_ratios(tmp_df, deposit))\n",
    "\n",
    "print(percentages)\n",
    "    "
   ]
  },
  {
   "cell_type": "code",
   "execution_count": null,
   "metadata": {},
   "outputs": [],
   "source": [
    "tmp_df"
   ]
  },
  {
   "cell_type": "code",
   "execution_count": 35,
   "metadata": {},
   "outputs": [
    {
     "name": "stdout",
     "output_type": "stream",
     "text": [
      "<class 'pandas.core.frame.DataFrame'>\n",
      "DatetimeIndex: 963 entries, 2018-01-01 to 2020-08-20\n",
      "Data columns (total 1 columns):\n",
      "txn_amt    963 non-null float64\n",
      "dtypes: float64(1)\n",
      "memory usage: 15.0 KB\n"
     ]
    }
   ],
   "source": [
    "cash_flow_daily = pd.DataFrame(tmp_df.groupby(['date'])['txn_amt'].sum())\n",
    "cash_flow_daily.info()"
   ]
  },
  {
   "cell_type": "code",
   "execution_count": 36,
   "metadata": {},
   "outputs": [
    {
     "data": {
      "text/html": [
       "<div>\n",
       "<style scoped>\n",
       "    .dataframe tbody tr th:only-of-type {\n",
       "        vertical-align: middle;\n",
       "    }\n",
       "\n",
       "    .dataframe tbody tr th {\n",
       "        vertical-align: top;\n",
       "    }\n",
       "\n",
       "    .dataframe thead th {\n",
       "        text-align: right;\n",
       "    }\n",
       "</style>\n",
       "<table border=\"1\" class=\"dataframe\">\n",
       "  <thead>\n",
       "    <tr style=\"text-align: right;\">\n",
       "      <th></th>\n",
       "      <th>txn_amt</th>\n",
       "    </tr>\n",
       "    <tr>\n",
       "      <th>date</th>\n",
       "      <th></th>\n",
       "    </tr>\n",
       "  </thead>\n",
       "  <tbody>\n",
       "    <tr>\n",
       "      <td>2020-08-16</td>\n",
       "      <td>12619.27</td>\n",
       "    </tr>\n",
       "    <tr>\n",
       "      <td>2020-08-17</td>\n",
       "      <td>-189570.38</td>\n",
       "    </tr>\n",
       "    <tr>\n",
       "      <td>2020-08-18</td>\n",
       "      <td>182505.08</td>\n",
       "    </tr>\n",
       "    <tr>\n",
       "      <td>2020-08-19</td>\n",
       "      <td>207034.19</td>\n",
       "    </tr>\n",
       "    <tr>\n",
       "      <td>2020-08-20</td>\n",
       "      <td>-86638.55</td>\n",
       "    </tr>\n",
       "  </tbody>\n",
       "</table>\n",
       "</div>"
      ],
      "text/plain": [
       "              txn_amt\n",
       "date                 \n",
       "2020-08-16   12619.27\n",
       "2020-08-17 -189570.38\n",
       "2020-08-18  182505.08\n",
       "2020-08-19  207034.19\n",
       "2020-08-20  -86638.55"
      ]
     },
     "execution_count": 36,
     "metadata": {},
     "output_type": "execute_result"
    }
   ],
   "source": [
    "cash_flow_daily.tail()"
   ]
  },
  {
   "cell_type": "code",
   "execution_count": 16,
   "metadata": {},
   "outputs": [
    {
     "data": {
      "image/png": "[encoded data removed]",
      "text/plain": [
       "<Figure size 1080x360 with 1 Axes>"
      ]
     },
     "metadata": {},
     "output_type": "display_data"
    },
    {
     "data": {
      "image/png": "[encoded data removed]",
      "text/plain": [
       "<Figure size 432x288 with 1 Axes>"
      ]
     },
     "metadata": {},
     "output_type": "display_data"
    }
   ],
   "source": [
    "plt.style.use('ggplot')\n",
    "fig = plt.subplots(figsize=(15, 5))\n",
    "cash_flow_daily.plot()\n",
    "plt.show()\n"
   ]
  },
  {
   "cell_type": "code",
   "execution_count": 4,
   "metadata": {},
   "outputs": [
    {
     "data": {
      "text/html": [
       "<div>\n",
       "<style scoped>\n",
       "    .dataframe tbody tr th:only-of-type {\n",
       "        vertical-align: middle;\n",
       "    }\n",
       "\n",
       "    .dataframe tbody tr th {\n",
       "        vertical-align: top;\n",
       "    }\n",
       "\n",
       "    .dataframe thead th {\n",
       "        text-align: right;\n",
       "    }\n",
       "</style>\n",
       "<table border=\"1\" class=\"dataframe\">\n",
       "  <thead>\n",
       "    <tr style=\"text-align: right;\">\n",
       "      <th></th>\n",
       "      <th>prest_txn_tm</th>\n",
       "      <th>txn_amt</th>\n",
       "    </tr>\n",
       "    <tr>\n",
       "      <th>pass_acct_dt</th>\n",
       "      <th></th>\n",
       "      <th></th>\n",
       "    </tr>\n",
       "  </thead>\n",
       "  <tbody>\n",
       "    <tr>\n",
       "      <td>20180101</td>\n",
       "      <td>2177907508</td>\n",
       "      <td>246352.73</td>\n",
       "    </tr>\n",
       "    <tr>\n",
       "      <td>20180102</td>\n",
       "      <td>4860136319</td>\n",
       "      <td>44174467.69</td>\n",
       "    </tr>\n",
       "    <tr>\n",
       "      <td>20180103</td>\n",
       "      <td>3592016709</td>\n",
       "      <td>1229238.64</td>\n",
       "    </tr>\n",
       "    <tr>\n",
       "      <td>20180104</td>\n",
       "      <td>3041112843</td>\n",
       "      <td>40340.18</td>\n",
       "    </tr>\n",
       "    <tr>\n",
       "      <td>20180105</td>\n",
       "      <td>3293772478</td>\n",
       "      <td>55524398.38</td>\n",
       "    </tr>\n",
       "    <tr>\n",
       "      <td>20180106</td>\n",
       "      <td>2662529809</td>\n",
       "      <td>464680.48</td>\n",
       "    </tr>\n",
       "    <tr>\n",
       "      <td>20180107</td>\n",
       "      <td>1800502188</td>\n",
       "      <td>203680.59</td>\n",
       "    </tr>\n",
       "    <tr>\n",
       "      <td>20180108</td>\n",
       "      <td>10921885639</td>\n",
       "      <td>849726.78</td>\n",
       "    </tr>\n",
       "    <tr>\n",
       "      <td>20180109</td>\n",
       "      <td>3595437626</td>\n",
       "      <td>1019996.38</td>\n",
       "    </tr>\n",
       "    <tr>\n",
       "      <td>20180110</td>\n",
       "      <td>3790436109</td>\n",
       "      <td>2725856.84</td>\n",
       "    </tr>\n",
       "    <tr>\n",
       "      <td>20180111</td>\n",
       "      <td>3090562085</td>\n",
       "      <td>851532.49</td>\n",
       "    </tr>\n",
       "    <tr>\n",
       "      <td>20180112</td>\n",
       "      <td>3252911539</td>\n",
       "      <td>2440787.04</td>\n",
       "    </tr>\n",
       "    <tr>\n",
       "      <td>20180113</td>\n",
       "      <td>2795988331</td>\n",
       "      <td>-29272.16</td>\n",
       "    </tr>\n",
       "    <tr>\n",
       "      <td>20180114</td>\n",
       "      <td>2289959320</td>\n",
       "      <td>904178.93</td>\n",
       "    </tr>\n",
       "    <tr>\n",
       "      <td>20180115</td>\n",
       "      <td>4616993067</td>\n",
       "      <td>-2128269.62</td>\n",
       "    </tr>\n",
       "    <tr>\n",
       "      <td>20180116</td>\n",
       "      <td>34548068686</td>\n",
       "      <td>-5443737.23</td>\n",
       "    </tr>\n",
       "    <tr>\n",
       "      <td>20180117</td>\n",
       "      <td>3144757285</td>\n",
       "      <td>163062.74</td>\n",
       "    </tr>\n",
       "    <tr>\n",
       "      <td>20180118</td>\n",
       "      <td>3326292978</td>\n",
       "      <td>452874.91</td>\n",
       "    </tr>\n",
       "    <tr>\n",
       "      <td>20180119</td>\n",
       "      <td>4008371207</td>\n",
       "      <td>-308606.36</td>\n",
       "    </tr>\n",
       "    <tr>\n",
       "      <td>20180120</td>\n",
       "      <td>3799907135</td>\n",
       "      <td>402679.44</td>\n",
       "    </tr>\n",
       "  </tbody>\n",
       "</table>\n",
       "</div>"
      ],
      "text/plain": [
       "              prest_txn_tm      txn_amt\n",
       "pass_acct_dt                           \n",
       "20180101        2177907508    246352.73\n",
       "20180102        4860136319  44174467.69\n",
       "20180103        3592016709   1229238.64\n",
       "20180104        3041112843     40340.18\n",
       "20180105        3293772478  55524398.38\n",
       "20180106        2662529809    464680.48\n",
       "20180107        1800502188    203680.59\n",
       "20180108       10921885639    849726.78\n",
       "20180109        3595437626   1019996.38\n",
       "20180110        3790436109   2725856.84\n",
       "20180111        3090562085    851532.49\n",
       "20180112        3252911539   2440787.04\n",
       "20180113        2795988331    -29272.16\n",
       "20180114        2289959320    904178.93\n",
       "20180115        4616993067  -2128269.62\n",
       "20180116       34548068686  -5443737.23\n",
       "20180117        3144757285    163062.74\n",
       "20180118        3326292978    452874.91\n",
       "20180119        4008371207   -308606.36\n",
       "20180120        3799907135    402679.44"
      ]
     },
     "execution_count": 4,
     "metadata": {},
     "output_type": "execute_result"
    }
   ],
   "source": [
    "cash_flow_daily.head(20)"
   ]
  }
 ],
 "metadata": {
  "kernelspec": {
   "display_name": "Python 3",
   "language": "python",
   "name": "python3"
  },
  "language_info": {
   "codemirror_mode": {
    "name": "ipython",
    "version": 3
   },
   "file_extension": ".py",
   "mimetype": "text/x-python",
   "name": "python",
   "nbconvert_exporter": "python",
   "pygments_lexer": "ipython3",
   "version": "3.7.4"
  }
 },
 "nbformat": 4,
 "nbformat_minor": 2
}
